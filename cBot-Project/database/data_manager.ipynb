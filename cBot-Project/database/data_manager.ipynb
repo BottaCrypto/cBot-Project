{
 "cells": [
  {
   "cell_type": "code",
   "execution_count": 14,
   "metadata": {},
   "outputs": [],
   "source": [
    "import sys\n",
    "sys.path.append( '../utilities' )\n",
    "from data_engine import DataEngine\n",
    "import pandas as pd\n",
    "import ccxt\n",
    "import json\n",
    "f = open('./pair_list.json',)\n",
    "pair_json = json.load(f)\n",
    "f.close()"
   ]
  },
  {
   "cell_type": "markdown",
   "metadata": {},
   "source": [
    "<h1>Inspect data from api or database</h1>"
   ]
  },
  {
   "cell_type": "code",
   "execution_count": 12,
   "metadata": {},
   "outputs": [
    {
     "data": {
      "text/html": [
       "<div>\n",
       "<style scoped>\n",
       "    .dataframe tbody tr th:only-of-type {\n",
       "        vertical-align: middle;\n",
       "    }\n",
       "\n",
       "    .dataframe tbody tr th {\n",
       "        vertical-align: top;\n",
       "    }\n",
       "\n",
       "    .dataframe thead th {\n",
       "        text-align: right;\n",
       "    }\n",
       "</style>\n",
       "<table border=\"1\" class=\"dataframe\">\n",
       "  <thead>\n",
       "    <tr style=\"text-align: right;\">\n",
       "      <th></th>\n",
       "      <th>open</th>\n",
       "      <th>high</th>\n",
       "      <th>low</th>\n",
       "      <th>close</th>\n",
       "      <th>volume</th>\n",
       "    </tr>\n",
       "    <tr>\n",
       "      <th>timestamp</th>\n",
       "      <th></th>\n",
       "      <th></th>\n",
       "      <th></th>\n",
       "      <th></th>\n",
       "      <th></th>\n",
       "    </tr>\n",
       "  </thead>\n",
       "  <tbody>\n",
       "    <tr>\n",
       "      <th>2017-08-14</th>\n",
       "      <td>4261.48</td>\n",
       "      <td>4485.39</td>\n",
       "      <td>3850.00</td>\n",
       "      <td>4086.29</td>\n",
       "      <td>2843.431426</td>\n",
       "    </tr>\n",
       "    <tr>\n",
       "      <th>2017-08-21</th>\n",
       "      <td>4069.13</td>\n",
       "      <td>4453.91</td>\n",
       "      <td>3400.00</td>\n",
       "      <td>4310.01</td>\n",
       "      <td>4599.396629</td>\n",
       "    </tr>\n",
       "    <tr>\n",
       "      <th>2017-08-28</th>\n",
       "      <td>4310.01</td>\n",
       "      <td>4939.19</td>\n",
       "      <td>4124.54</td>\n",
       "      <td>4509.08</td>\n",
       "      <td>4753.843376</td>\n",
       "    </tr>\n",
       "    <tr>\n",
       "      <th>2017-09-04</th>\n",
       "      <td>4505.00</td>\n",
       "      <td>4788.59</td>\n",
       "      <td>3603.00</td>\n",
       "      <td>4130.37</td>\n",
       "      <td>6382.787745</td>\n",
       "    </tr>\n",
       "    <tr>\n",
       "      <th>2017-09-11</th>\n",
       "      <td>4153.62</td>\n",
       "      <td>4394.59</td>\n",
       "      <td>2817.00</td>\n",
       "      <td>3699.99</td>\n",
       "      <td>8106.705127</td>\n",
       "    </tr>\n",
       "    <tr>\n",
       "      <th>...</th>\n",
       "      <td>...</td>\n",
       "      <td>...</td>\n",
       "      <td>...</td>\n",
       "      <td>...</td>\n",
       "      <td>...</td>\n",
       "    </tr>\n",
       "    <tr>\n",
       "      <th>2021-12-27</th>\n",
       "      <td>50775.48</td>\n",
       "      <td>52088.00</td>\n",
       "      <td>45678.00</td>\n",
       "      <td>47286.18</td>\n",
       "      <td>217367.008660</td>\n",
       "    </tr>\n",
       "    <tr>\n",
       "      <th>2022-01-03</th>\n",
       "      <td>47286.18</td>\n",
       "      <td>47570.00</td>\n",
       "      <td>40501.00</td>\n",
       "      <td>41864.62</td>\n",
       "      <td>264331.615870</td>\n",
       "    </tr>\n",
       "    <tr>\n",
       "      <th>2022-01-10</th>\n",
       "      <td>41864.62</td>\n",
       "      <td>44500.00</td>\n",
       "      <td>39650.00</td>\n",
       "      <td>43071.66</td>\n",
       "      <td>232059.069690</td>\n",
       "    </tr>\n",
       "    <tr>\n",
       "      <th>2022-01-17</th>\n",
       "      <td>43071.66</td>\n",
       "      <td>43505.00</td>\n",
       "      <td>34008.00</td>\n",
       "      <td>36244.55</td>\n",
       "      <td>354513.984320</td>\n",
       "    </tr>\n",
       "    <tr>\n",
       "      <th>2022-01-24</th>\n",
       "      <td>36244.55</td>\n",
       "      <td>37550.00</td>\n",
       "      <td>32917.17</td>\n",
       "      <td>37172.17</td>\n",
       "      <td>135794.099561</td>\n",
       "    </tr>\n",
       "  </tbody>\n",
       "</table>\n",
       "<p>233 rows × 5 columns</p>\n",
       "</div>"
      ],
      "text/plain": [
       "                open      high       low     close         volume\n",
       "timestamp                                                        \n",
       "2017-08-14   4261.48   4485.39   3850.00   4086.29    2843.431426\n",
       "2017-08-21   4069.13   4453.91   3400.00   4310.01    4599.396629\n",
       "2017-08-28   4310.01   4939.19   4124.54   4509.08    4753.843376\n",
       "2017-09-04   4505.00   4788.59   3603.00   4130.37    6382.787745\n",
       "2017-09-11   4153.62   4394.59   2817.00   3699.99    8106.705127\n",
       "...              ...       ...       ...       ...            ...\n",
       "2021-12-27  50775.48  52088.00  45678.00  47286.18  217367.008660\n",
       "2022-01-03  47286.18  47570.00  40501.00  41864.62  264331.615870\n",
       "2022-01-10  41864.62  44500.00  39650.00  43071.66  232059.069690\n",
       "2022-01-17  43071.66  43505.00  34008.00  36244.55  354513.984320\n",
       "2022-01-24  36244.55  37550.00  32917.17  37172.17  135794.099561\n",
       "\n",
       "[233 rows x 5 columns]"
      ]
     },
     "execution_count": 12,
     "metadata": {},
     "output_type": "execute_result"
    }
   ],
   "source": [
    "# -- Data variable --\n",
    "pair_symbol = 'BTC/USDT'\n",
    "timeframe = '1w'\n",
    "start_date = '2017-01-01T00:00:00'\n",
    "\n",
    "# -- Instance class --\n",
    "dataEngine = DataEngine(session=ccxt.binance())\n",
    "\n",
    "# -- Check from exchange API --\n",
    "df =dataEngine.get_historical_from_api(pair_symbol, timeframe, start_date)\n",
    "\n",
    "# -- Check from local database --\n",
    "# df =dataEngine.get_historical_from_db(pair_symbol, timeframe, start_date)\n",
    "\n",
    "df"
   ]
  },
  {
   "cell_type": "markdown",
   "metadata": {},
   "source": [
    "<h1>Download data from api to local database</h1>"
   ]
  },
  {
   "cell_type": "code",
   "execution_count": null,
   "metadata": {},
   "outputs": [
    {
     "name": "stdout",
     "output_type": "stream",
     "text": [
      "-> downloding symbol BTC/USDT for timeframe 1h\n"
     ]
    }
   ],
   "source": [
    "# -- Data variable --\n",
    "pair_symbols = pair_json['Top5FTX']\n",
    "#pair_symbols = ['CAKE/USDT']\n",
    "timeframes = ['1h']\n",
    "start_date = '2018-01-01T00:00:00'\n",
    "\n",
    "# -- Instance class --\n",
    "dataEngine = DataEngine(session=ccxt.binance())\n",
    "\n",
    "# -- Download data from data variable --\n",
    "dataEngine.download_data(pair_symbols, timeframes, start_date)\n"
   ]
  },
  {
   "cell_type": "markdown",
   "metadata": {},
   "source": [
    "<h1>Update data from local database with new data from api</h1>"
   ]
  },
  {
   "cell_type": "code",
   "execution_count": 11,
   "metadata": {},
   "outputs": [
    {
     "name": "stdout",
     "output_type": "stream",
     "text": [
      "BTC/USDT 0 New candles 1h load since the : 2018-01-01 00:00:00 in ../database/Binance/1h/BTCUSDT.p\n",
      "ETH/USDT 0 New candles 1h load since the : 2018-01-01 00:00:00 in ../database/Binance/1h/ETHUSDT.p\n",
      "BNB/USDT 0 New candles 1h load since the : 2018-01-01 00:00:00 in ../database/Binance/1h/BNBUSDT.p\n",
      "LTC/USDT 0 New candles 1h load since the : 2018-01-01 00:00:00 in ../database/Binance/1h/LTCUSDT.p\n",
      "DOGE/USDT 0 New candles 1h load since the : 2019-07-05 12:00:00 in ../database/Binance/1h/DOGEUSDT.p\n",
      "XRP/USDT 0 New candles 1h load since the : 2018-05-04 08:00:00 in ../database/Binance/1h/XRPUSDT.p\n",
      "SOL/USDT 0 New candles 1h load since the : 2020-08-11 06:00:00 in ../database/Binance/1h/SOLUSDT.p\n",
      "SHIB/USDT 0 New candles 1h load since the : 2021-05-10 11:00:00 in ../database/Binance/1h/SHIBUSDT.p\n",
      "LINK/USDT 0 New candles 1h load since the : 2019-01-16 10:00:00 in ../database/Binance/1h/LINKUSDT.p\n",
      "UNI/USDT 0 New candles 1h load since the : 2020-09-17 03:00:00 in ../database/Binance/1h/UNIUSDT.p\n",
      "MATIC/USDT 0 New candles 1h load since the : 2019-04-26 15:00:00 in ../database/Binance/1h/MATICUSDT.p\n",
      "AXS/USDT 0 New candles 1h load since the : 2020-11-04 13:00:00 in ../database/Binance/1h/AXSUSDT.p\n",
      "Error on CAKE/USDT 1h\n",
      "FTT/USDT 0 New candles 1h load since the : 2019-12-20 03:00:00 in ../database/Binance/1h/FTTUSDT.p\n",
      "TRX/USDT 0 New candles 1h load since the : 2018-06-11 11:00:00 in ../database/Binance/1h/TRXUSDT.p\n",
      "BCH/USDT 0 New candles 1h load since the : 2019-11-28 10:00:00 in ../database/Binance/1h/BCHUSDT.p\n",
      "FTM/USDT 0 New candles 1h load since the : 2019-06-11 04:00:00 in ../database/Binance/1h/FTMUSDT.p\n",
      "GRT/USDT 0 New candles 1h load since the : 2020-12-17 20:00:00 in ../database/Binance/1h/GRTUSDT.p\n",
      "AAVE/USDT 0 New candles 1h load since the : 2020-10-15 03:00:00 in ../database/Binance/1h/AAVEUSDT.p\n",
      "OMG/USDT 0 New candles 1h load since the : 2019-04-03 04:00:00 in ../database/Binance/1h/OMGUSDT.p\n",
      "LRC/USDT 0 New candles 1h load since the : 2020-06-12 08:00:00 in ../database/Binance/1h/LRCUSDT.p\n",
      "SUSHI/USDT 0 New candles 1h load since the : 2020-09-01 11:00:00 in ../database/Binance/1h/SUSHIUSDT.p\n",
      "MANA/USDT 0 New candles 1h load since the : 2020-08-06 10:00:00 in ../database/Binance/1h/MANAUSDT.p\n",
      "SRM/USDT 0 New candles 1h load since the : 2020-08-11 13:00:00 in ../database/Binance/1h/SRMUSDT.p\n",
      "RUNE/USDT 0 New candles 1h load since the : 2020-09-04 06:00:00 in ../database/Binance/1h/RUNEUSDT.p\n",
      "SAND/USDT 0 New candles 1h load since the : 2020-08-14 13:00:00 in ../database/Binance/1h/SANDUSDT.p\n",
      "CHZ/USDT 0 New candles 1h load since the : 2019-09-06 04:00:00 in ../database/Binance/1h/CHZUSDT.p\n",
      "CRV/USDT 0 New candles 1h load since the : 2020-08-15 04:00:00 in ../database/Binance/1h/CRVUSDT.p\n",
      "RAY/USDT 0 New candles 1h load since the : 2021-08-10 06:00:00 in ../database/Binance/1h/RAYUSDT.p\n"
     ]
    }
   ],
   "source": [
    "# -- Data variable --\n",
    "pair_symbols = pair_json['Top29FTX']\n",
    "timeframes = ['1h']\n",
    "\n",
    "# -- Instance class --\n",
    "dataEngine = DataEngine(session=ccxt.binance())\n",
    "\n",
    "# -- Download data from data variable --\n",
    "dataEngine.update_data(pair_symbols, timeframes)"
   ]
  }
 ],
 "metadata": {
  "interpreter": {
   "hash": "b99de858d01b8bcc47614726909171e040cc7bf90a13719c5d6ce860f919fb18"
  },
  "kernelspec": {
   "display_name": "Python 3 (ipykernel)",
   "language": "python",
   "name": "python3"
  },
  "language_info": {
   "codemirror_mode": {
    "name": "ipython",
    "version": 3
   },
   "file_extension": ".py",
   "mimetype": "text/x-python",
   "name": "python",
   "nbconvert_exporter": "python",
   "pygments_lexer": "ipython3",
   "version": "3.8.10"
  }
 },
 "nbformat": 4,
 "nbformat_minor": 2
}
